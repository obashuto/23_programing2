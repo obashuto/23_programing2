{
  "cells": [
    {
      "cell_type": "markdown",
      "metadata": {
        "id": "view-in-github",
        "colab_type": "text"
      },
      "source": [
        "<a href=\"https://colab.research.google.com/github/obashuto/23_programing2/blob/main/07%E3%83%86%E3%82%AD%E3%82%B9%E3%83%88%E3%83%95%E3%82%A1%E3%82%A4%E3%83%AB%E3%81%AE%E8%AA%AD%E3%81%BF%E8%BE%BC%E3%81%BF%E3%80%81%E6%9B%B8%E3%81%8D%E5%87%BA%E3%81%97/06%E3%83%86%E3%82%AD%E3%82%B9%E3%83%88%E3%83%95%E3%82%A1%E3%82%A4%E3%83%AB%E3%81%AE%E6%9B%B8%E3%81%8D%E8%BE%BC%E3%81%BF.ipynb\" target=\"_parent\"><img src=\"https://colab.research.google.com/assets/colab-badge.svg\" alt=\"Open In Colab\"/></a>"
      ]
    },
    {
      "cell_type": "markdown",
      "metadata": {
        "id": "hMGWz_KKWcMU"
      },
      "source": [
        "### Section 13 テキストファイルの読み込み、書き出し\n",
        "# Section 13-2 テキストファイルへの書き込み(教科書P.311)"
      ]
    },
    {
      "cell_type": "markdown",
      "metadata": {
        "id": "hgo5u_7ZWcMY"
      },
      "source": [
        "## 参考サイト\n",
        "### [【Python早見表】ファイルからの書き込み](https://chokkan.github.io/python/11file.html#id2)\n",
        "### [【Python入門】ファイルへの書き込み](https://utokyo-ipp.github.io/4/4-1.html#%E3%83%95%E3%82%A1%E3%82%A4%E3%83%AB%E3%81%B8%E3%81%AE%E6%9B%B8%E3%81%8D%E8%BE%BC%E3%81%BF)"
      ]
    },
    {
      "cell_type": "markdown",
      "metadata": {
        "id": "HoRvUlPyWcMZ"
      },
      "source": [
        "## サンプルプログラム8　テキストファイルへの書き込み"
      ]
    },
    {
      "cell_type": "markdown",
      "metadata": {
        "id": "PSdMAL0GWcMZ"
      },
      "source": [
        "- 計算結果や入力データなどをテキストファイルに出力しておくことでプログラムの処理結果を保存しておくことができます。\n",
        "- ここではテキストファイルへの書き込み方法について学びましょう"
      ]
    },
    {
      "cell_type": "code",
      "execution_count": null,
      "metadata": {
        "id": "ycCoakyHWcMa"
      },
      "outputs": [],
      "source": [
        "# drive.mount()を使用してGoogleDriveをMount\n",
        "from google.colab import drive\n",
        "drive.mount('/content/drive')\n",
        "\n",
        "# os.chdir()を使用してカレントディレクトリを変更。作成したショーットカット名を使ってパスを指定します。\n",
        "import os\n",
        "os.chdir('/content/drive/MyDrive/＜作成したショートカット名＞')\n",
        "\n",
        "# 出力パスを指定します\n",
        "file_path = \"./data/lets_python.txt\"\n",
        "\n",
        "# ファイルに書き出す\n",
        "fileobj = open(file_path, \"w\", encoding=\"utf_8\")\n",
        "fileobj.write(\"こんにちは\\n\")\n",
        "fileobj.write(\"Pythonをはじめよう\\n\")\n",
        "fileobj.close()"
      ]
    },
    {
      "cell_type": "markdown",
      "metadata": {
        "id": "exaFL1mdWcMb"
      },
      "source": [
        "## 練習プログラム8　テキストファイルへの書き込み (0.5点)\n",
        "- \"./data/lets_programming.txt\" に「こんにちは」「プログラミングをはじめよう」の２行を出力してみましょう。 "
      ]
    },
    {
      "cell_type": "code",
      "execution_count": null,
      "metadata": {
        "id": "RHRkmW88WcMb"
      },
      "outputs": [],
      "source": [
        "# テキスト書き込みのプログラムを書いてみましょう\n",
        "\n",
        "# ここにPythonプログラムを記述してください\n"
      ]
    },
    {
      "cell_type": "markdown",
      "metadata": {
        "id": "RPgq0MxmWcMc"
      },
      "source": [
        "---\n",
        "---\n",
        "---\n",
        "---\n",
        "---"
      ]
    },
    {
      "cell_type": "markdown",
      "metadata": {
        "id": "Lnr1v52qWcMd"
      },
      "source": [
        "## サンプルプログラム9　テキストファイルへの書き込み(with-as)\n",
        "- with-as 文を使うことでclose忘れを防ぐ事ができます。"
      ]
    },
    {
      "cell_type": "code",
      "execution_count": null,
      "metadata": {
        "id": "PaPy7bmtWcMe"
      },
      "outputs": [],
      "source": [
        "# 出力パスを指定します\n",
        "file_path = \"./data/lets_python.txt\"\n",
        "\n",
        "# ファイルに書き出す\n",
        "with open(file_path, \"w\", encoding=\"utf_8\") as fileobj:\n",
        "    fileobj.write(\"こんにちは\\n\")\n",
        "    fileobj.write(\"Pythonをはじめよう\\n\")"
      ]
    },
    {
      "cell_type": "markdown",
      "metadata": {
        "id": "ZfQ4zQteWcMe"
      },
      "source": [
        "## 練習プログラム9　テキストファイルへの書き込み(with-as) (0.5点)\n",
        "- with-asを使用して \"./data/lets_programming.txt\" に「こんにちは」「プログラミングをはじめよう」の２行を出力してみましょう。 "
      ]
    },
    {
      "cell_type": "code",
      "execution_count": null,
      "metadata": {
        "id": "F5HadXNqWcMe"
      },
      "outputs": [],
      "source": [
        "# with-asを使用して \"./data/lets_programming.txt\" に「こんにちは」「プログラミングをはじめよう」の２行を出力してみましょう。\n",
        "\n",
        "# ここにPythonプログラムを記述してください\n"
      ]
    },
    {
      "cell_type": "markdown",
      "metadata": {
        "id": "cNpVhrzzWcMf"
      },
      "source": [
        "---\n",
        "---\n",
        "---\n",
        "---\n",
        "---"
      ]
    },
    {
      "cell_type": "markdown",
      "metadata": {
        "id": "0MC_jaenWcMf"
      },
      "source": [
        "## サンプルプログラム10　テキストファイルへの追記\n",
        "- open()のmode引数を\"a\"にしてファイルを書き出すと、指定のファイルが存在しない時は新規ファイルが作られ、ファイルがある場合はその内容に追記されます。"
      ]
    },
    {
      "cell_type": "code",
      "execution_count": null,
      "metadata": {
        "id": "hwMMURFcWcMf"
      },
      "outputs": [],
      "source": [
        "import sys\n",
        "from datetime import datetime\n",
        "\n",
        "file_path = \"./data/log.txt\"\n",
        "now = str(datetime.now())\n",
        "input_text = \"ログ\"\n",
        "\n",
        "line = \"-\"*10    # 区切り線\n",
        "with open(file_path, \"a\") as fileobj:    # 追記モードのファイルオブジェクト\n",
        "    fileobj.write(now + \"\\n\") \n",
        "    fileobj.write(input_text + \"\\n\") \n",
        "    fileobj.write(line + \"\\n\")"
      ]
    },
    {
      "cell_type": "markdown",
      "metadata": {
        "id": "hPB_IzxaWcMf"
      },
      "source": [
        "## 練習プログラム10　テキストファイルへの追記 (0.5点)\n",
        "- input()でテキストを受け取り、\"./data/log.txt\" に追記モードで書き込むプログラムを作成しましょう。"
      ]
    },
    {
      "cell_type": "code",
      "execution_count": null,
      "metadata": {
        "id": "cfWtH2JUWcMg"
      },
      "outputs": [],
      "source": [
        "# input()でテキストを受け取り、\"./data/log.txt\" に追記モードで書き込むプログラムを作成しましょう。\n",
        "\n",
        "# ここにPythonプログラムを記述してください\n"
      ]
    },
    {
      "cell_type": "markdown",
      "metadata": {
        "id": "rDdwtbolWcMg"
      },
      "source": [
        "---\n",
        "---\n",
        "---\n",
        "---\n",
        "---"
      ]
    },
    {
      "cell_type": "markdown",
      "metadata": {
        "id": "-opRrrq8WcMg"
      },
      "source": [
        "## サンプルプログラム11　ファイル・フォルダの存在チェック\n",
        "- os.path.exist() でファイル・フォルダの存在チェックができます。\n",
        "- os.makedirs() でフォルダの作成ができます。"
      ]
    },
    {
      "cell_type": "code",
      "execution_count": null,
      "metadata": {
        "id": "PBRm9TWvWcMg",
        "outputId": "0a37bca6-d2e3-4724-a2b2-61cec146c2d2"
      },
      "outputs": [
        {
          "name": "stdout",
          "output_type": "stream",
          "text": [
            "dataフォルダが存在するか → True\n",
            "data2フォルダが存在するか → False\n"
          ]
        }
      ],
      "source": [
        "import os\n",
        "\n",
        "def check_folder_exists(folder_path):\n",
        "    print(f\"{folder_path}フォルダが存在するか →\", os.path.exists(folder_path))\n",
        "    if not os.path.exists(folder_path):\n",
        "        # os.makedirs(folder_path) # ここを有効にするとフォルダが無い時に作られるようになります\n",
        "        pass\n",
        "\n",
        "# フォルダの存在チェック\n",
        "check_folder_exists(\"data\")\n",
        "check_folder_exists(\"data2\")"
      ]
    },
    {
      "cell_type": "markdown",
      "metadata": {
        "id": "IrQkTxnbWcMh"
      },
      "source": [
        "## 練習プログラム11　ファイル・フォルダの存在チェック (1.0点)\n",
        "- \"./data2/\" フォルダが存在するかどうかチェックして、存在しない時はフォルダを作成\n",
        "- \"./data2/hello.txt\" に「こんにちは！」「Hello!」「ナマステ！」と３行書き込むプログラムを作成しましょう"
      ]
    },
    {
      "cell_type": "code",
      "execution_count": null,
      "metadata": {
        "id": "eg2_qCuFWcMh"
      },
      "outputs": [],
      "source": [
        "# \"./data2/\" フォルダが存在するかどうかチェックして、存在しない時はフォルダを作成\n",
        "# \"./data2/hello.txt\" に「こんにちは！」「Hello!」「ナマステ！」と３行書き込むプログラムを作成しましょう\n",
        "\n",
        "# ここにPythonプログラムを記述してください\n"
      ]
    },
    {
      "cell_type": "markdown",
      "metadata": {
        "id": "GIYF_ZUdWcMh"
      },
      "source": [
        "---\n",
        "---\n",
        "---\n",
        "---\n",
        "---"
      ]
    },
    {
      "cell_type": "code",
      "execution_count": null,
      "metadata": {
        "id": "niCii0reWcMi"
      },
      "outputs": [],
      "source": []
    }
  ],
  "metadata": {
    "colab": {
      "provenance": [],
      "include_colab_link": true
    },
    "kernelspec": {
      "display_name": "Python 3 (ipykernel)",
      "language": "python",
      "name": "python3"
    },
    "language_info": {
      "codemirror_mode": {
        "name": "ipython",
        "version": 3
      },
      "file_extension": ".py",
      "mimetype": "text/x-python",
      "name": "python",
      "nbconvert_exporter": "python",
      "pygments_lexer": "ipython3",
      "version": "3.10.8"
    }
  },
  "nbformat": 4,
  "nbformat_minor": 0
}